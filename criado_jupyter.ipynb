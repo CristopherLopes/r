{
 "cells": [
  {
   "cell_type": "code",
   "execution_count": null,
   "metadata": {},
   "outputs": [],
   "source": [
    "a=1\n",
    "b=2\n",
    "c=3"
   ]
  },
  {
   "cell_type": "code",
   "execution_count": null,
   "metadata": {
    "scrolled": false
   },
   "outputs": [],
   "source": [
    "d=a+b\n",
    "print(d)"
   ]
  },
  {
   "cell_type": "code",
   "execution_count": null,
   "metadata": {},
   "outputs": [],
   "source": []
  },
  {
   "cell_type": "code",
   "execution_count": null,
   "metadata": {},
   "outputs": [],
   "source": []
  },
  {
   "cell_type": "code",
   "execution_count": null,
   "metadata": {},
   "outputs": [],
   "source": []
  },
  {
   "cell_type": "code",
   "execution_count": null,
   "metadata": {},
   "outputs": [],
   "source": []
  },
  {
   "cell_type": "markdown",
   "metadata": {},
   "source": [
    "Exemplo de célula Markdown, utilizada para comentários."
   ]
  },
  {
   "cell_type": "markdown",
   "metadata": {},
   "source": [
    "# Tipos de dados em Python:\n",
    "## Numéricos:\n",
    "### inteiro: int /valor numérico sem casa decimal Ex.: 1982\n",
    "### real/ponto flutiante: float /numérico com casa decimal Ex.: 3.14 OBS.: utilizar \".\" para números e não \",\"\n",
    "## Não Numéricos:\n",
    "### caractere/string: str /letras, textos ou \"1984\" Ex.: a, b, casa, \"1982\"\n",
    "### lógico ou booleano: bool /True ou False\n"
   ]
  },
  {
   "cell_type": "code",
   "execution_count": 25,
   "metadata": {},
   "outputs": [
    {
     "data": {
      "text/plain": [
       "4.140000000000001"
      ]
     },
     "execution_count": 25,
     "metadata": {},
     "output_type": "execute_result"
    }
   ],
   "source": [
    "d=a+3.14\n",
    "d"
   ]
  },
  {
   "cell_type": "code",
   "execution_count": 29,
   "metadata": {},
   "outputs": [
    {
     "name": "stdout",
     "output_type": "stream",
     "text": [
      "1985dia\n"
     ]
    }
   ],
   "source": [
    "print(\"1985dia\")"
   ]
  },
  {
   "cell_type": "code",
   "execution_count": 31,
   "metadata": {},
   "outputs": [
    {
     "data": {
      "text/plain": [
       "True"
      ]
     },
     "execution_count": 31,
     "metadata": {},
     "output_type": "execute_result"
    }
   ],
   "source": [
    "d<1000"
   ]
  },
  {
   "cell_type": "code",
   "execution_count": null,
   "metadata": {},
   "outputs": [],
   "source": [
    "print(\"f\"+\"t\")"
   ]
  },
  {
   "cell_type": "markdown",
   "metadata": {},
   "source": [
    "# Identificadores\n",
    "\n",
    "### Regras para nomear/identificar variáveis, constantes e funções\n",
    "\n",
    "### Utilizar letras de A a Z maiúsculas e minúsculas;\n",
    "### Dígitos de 0 a 9;\n",
    "### Símbulo underscore _\n",
    "\n",
    "### Deve começar com uma letra ou com _\n",
    "\n",
    "### Não deve conter espaços, caracteres especiais ou espaços;\n",
    "### Pythton é case-sensitive, nota != Nota;\n",
    "\n",
    "### Ex. válido: J, Dia_2, Data, A17;\n",
    "### Ex. não válidos: Maçã, nome-user, 7User@;\n",
    "\n",
    "### Boa prática, os identificadores devem ser simples e descrever precisamente variáveis, constantes e funções;\n",
    "### Ex.: nome_user, salario, valor_inicial, \n",
    "\n",
    "### No PEP8, Guido van Rossum sugere que identificadores devem ter apenas letras munúsculas e _\n",
    "### Ex.: nome_func, nome_user, perc_aumento;\n",
    "\n",
    "\n",
    "\n",
    "\n",
    "\n",
    "\n",
    " "
   ]
  },
  {
   "cell_type": "markdown",
   "metadata": {},
   "source": [
    "## Variáveis\n",
    "\n",
    "### Espaço na memória para que o pc possa armazenar dados que podem ser utilizador posteriormente;\n",
    "### Atributos de uma variável: \n",
    "### Endereço na memória, Tipo(int, float, str, bool), identificador(nome);\n",
    "\n",
    "## Criando uma variável;\n",
    "\n",
    "### Informar nome e valor;\n",
    "### Ex.: dia = 23; nome_aluno = \"Lopes\"\n",
    "### OBS.: o tipo da variável é definido dinamicamente conforme o valor atribuído;\n",
    "### O comnado type informa o tipo da variável\n",
    "### Ex.: num_dia = 19; type(num_dia); int\n",
    "### Ex.: valor_dia = 19.50 ; type(valor_dia); float\n",
    "### Ex.: nome_dia = \"sábado\" ; type(nome_dia); str\n",
    "### Ex.: sol_dia = True ; type(valor_dia); bool"
   ]
  },
  {
   "cell_type": "code",
   "execution_count": 35,
   "metadata": {},
   "outputs": [
    {
     "data": {
      "text/plain": [
       "int"
      ]
     },
     "execution_count": 35,
     "metadata": {},
     "output_type": "execute_result"
    }
   ],
   "source": [
    "num_dia=19\n",
    "type(num_dia)"
   ]
  },
  {
   "cell_type": "code",
   "execution_count": 36,
   "metadata": {},
   "outputs": [
    {
     "data": {
      "text/plain": [
       "float"
      ]
     },
     "execution_count": 36,
     "metadata": {},
     "output_type": "execute_result"
    }
   ],
   "source": [
    "valor_dia = 19.50\n",
    "type(valor_dia)"
   ]
  },
  {
   "cell_type": "code",
   "execution_count": 39,
   "metadata": {},
   "outputs": [
    {
     "data": {
      "text/plain": [
       "str"
      ]
     },
     "execution_count": 39,
     "metadata": {},
     "output_type": "execute_result"
    }
   ],
   "source": [
    "nome_dia = \"sábado\"\n",
    "type(nome_dia)"
   ]
  },
  {
   "cell_type": "code",
   "execution_count": 41,
   "metadata": {
    "scrolled": true
   },
   "outputs": [
    {
     "data": {
      "text/plain": [
       "bool"
      ]
     },
     "execution_count": 41,
     "metadata": {},
     "output_type": "execute_result"
    }
   ],
   "source": [
    "sol_dia = True\n",
    "type(sol_dia)"
   ]
  },
  {
   "cell_type": "markdown",
   "metadata": {},
   "source": [
    "## type casting Conversão de tipos\n",
    "### Conversão entre tipos de dados\n",
    "### Ex:\n",
    "### int_string = str(5)\n",
    "### string_float = float(\"3.14159\")\n",
    "### string_int = int(\"2019\")\n",
    "### int_bool = bool(17)\n",
    "### --------------------------------------------------------\n",
    "# Conversão para string(str)\n",
    "### bool_string = str(True)\n",
    "### bool_string2 = str(False)\n",
    "### int_string = str(5)\n",
    "### float_string = str(3.14159)\n",
    "### --------------------------------------------------------\n",
    "# Conversão para int\n",
    "### string_int = int(\"2019\")\n",
    "### bool_int = int(True)\n",
    "### bool_int2 = int(False)\n",
    "### float_int = int(3.14149)\n",
    "### string_int2 = int(\"101\", 2)\n",
    "### string_int3 = int(\"F0A23B\", 16)\n",
    "### --------------------------------------------------------\n",
    "# Conversão para Float\n",
    "### string_float = float(\"3.14159\")\n",
    "### string_float2 = float(\"3\")\n",
    "### bool_float = float(True)\n",
    "### bool_float2 = float(False)\n",
    "### int_float = float(15)\n",
    "### --------------------------------------------------------\n",
    "# Conversão para bool\n",
    "### string_bool = bool(\"Python\")\n",
    "### string_bool2 = bool(\"True\")\n",
    "### string_bool3 = bool(\"False\")\n",
    "### int_bool = bool(17)\n",
    "### int_bool2 = bool(0)\n",
    "### float_bool = bool(3.14)\n",
    "### float_bool2 = bool(0.0)\n",
    "### --------------------------------------------------------\n"
   ]
  },
  {
   "cell_type": "code",
   "execution_count": 1,
   "metadata": {},
   "outputs": [],
   "source": [
    "# Conversão par string(str)\n",
    "bool_string = str(True)\n",
    "bool_string2 = str(False)\n",
    "int_string = str(5)\n",
    "float_string = str(3.14159)\n",
    "\n",
    "# Conversão para int\n",
    "string_int = int(\"2019\")\n",
    "bool_int = int(True)\n",
    "bool_int2 = int(False)\n",
    "float_int = int(3.14149)\n",
    "string_int2 = int(\"101\", 2)\n",
    "string_int3 = int(\"F0A23B\", 16)\n",
    "\n",
    "# Conversão para Float\n",
    "string_float = float(\"3.14159\")\n",
    "string_float2 = float(\"3\")\n",
    "bool_float = float(True)\n",
    "bool_float2 = float(False)\n",
    "int_float = float(15)\n",
    "\n",
    "# Conversão para bool\n",
    "string_bool = bool(\"Python\")\n",
    "string_bool2 = bool(\"True\")\n",
    "string_bool3 = bool(\"False\")\n",
    "int_bool = bool(17)\n",
    "int_bool2 = bool(0)\n",
    "float_bool = bool(3.14)\n",
    "float_bool2 = bool(0.0)\n"
   ]
  },
  {
   "cell_type": "code",
   "execution_count": 13,
   "metadata": {},
   "outputs": [
    {
     "name": "stdout",
     "output_type": "stream",
     "text": [
      "v = True <class 'bool'>\n",
      "x = 0 <class 'int'>\n",
      "y = 3.14 <class 'float'>\n",
      "z = 11 <class 'str'>\n"
     ]
    }
   ],
   "source": [
    "v=True\n",
    "x=7\n",
    "y=3.14\n",
    "z=\"11\"\n",
    "#print(x, y, z)\n",
    "print(\"v\",\"=\",v, type(v))\n",
    "print(\"x\",\"=\",x, type(x))\n",
    "print(\"y\",\"=\",y,type(y))\n",
    "print(\"z\",\"=\",z,type(z))"
   ]
  },
  {
   "cell_type": "code",
   "execution_count": 20,
   "metadata": {},
   "outputs": [
    {
     "name": "stdout",
     "output_type": "stream",
     "text": [
      "Before v = True <class 'bool'>\n",
      "Before x = 7 <class 'int'>\n",
      "Before y = 3.14 <class 'float'>\n",
      "Before z = 11 <class 'str'>\n",
      "\n",
      "After v = 1 <class 'int'>\n",
      "After x = True <class 'bool'>\n",
      "After y = 3.14 <class 'str'>\n",
      "After z = 11.0 <class 'float'>\n"
     ]
    }
   ],
   "source": [
    "v=True\n",
    "x=7\n",
    "y=3.14\n",
    "z=\"11\"\n",
    "#print(x, y, z)\n",
    "print(\"Before v\",\"=\",v, type(v))\n",
    "print(\"Before x\",\"=\",x, type(x))\n",
    "print(\"Before y\",\"=\",y,type(y))\n",
    "print(\"Before z\",\"=\",z,type(z))\n",
    "print()\n",
    "v=int(v)\n",
    "x=bool(x)\n",
    "y=str(y)\n",
    "z=float(z)\n",
    "print(\"After v\",\"=\",v, type(v))\n",
    "print(\"After x\",\"=\",x, type(x))\n",
    "print(\"After y\",\"=\",y, type(y))\n",
    "print(\"After z\",\"=\",z, type(z))"
   ]
  },
  {
   "cell_type": "code",
   "execution_count": 35,
   "metadata": {
    "scrolled": true
   },
   "outputs": [
    {
     "name": "stdout",
     "output_type": "stream",
     "text": [
      "777t <class 'str'>\n",
      "True <class 'bool'>\n"
     ]
    }
   ],
   "source": [
    "#testes de conversão\n",
    "teste = \"777t\"\n",
    "print(teste, type(teste))\n",
    "teste=bool(teste)\n",
    "print(teste,type(teste))"
   ]
  },
  {
   "cell_type": "markdown",
   "metadata": {},
   "source": [
    "## valor > 0 True, valor < 0 False\n",
    "## valor str convertido para bool, sempre será True\n",
    "## valor float convertido para int perde as casas após o \".\" de 3.14 == 3    \n",
    "## valor float convertido para int perde as casas após o \".\" de 3.14 == 3"
   ]
  },
  {
   "cell_type": "markdown",
   "metadata": {},
   "source": [
    "## Comentários\n",
    "### --------------------------------------------------\n",
    "### Comentário de bloco;\n",
    "### Ex.: #comentário de bloco\n",
    "###         comando1\n",
    "###         comando2\n",
    "###         comando...\n",
    "### --------------------------------------------------\n",
    "### comando x #comentário de linha\n",
    "### --------------------------------------------------\n",
    "### #comentário de várias linhas\n",
    "### #linha 2\n",
    "### #linha...\n",
    "### --------------------------------------------------\n",
    "### \"\"\"\n",
    "### comentário comentário comentário \n",
    "### comentário comentário comentário \n",
    "### comentário comentário comentário \n",
    "### \"\"\"\n",
    "### --------------------------------------------------"
   ]
  },
  {
   "cell_type": "code",
   "execution_count": 42,
   "metadata": {},
   "outputs": [],
   "source": [
    "# exemplo de comentário de bloco\n",
    "a = 1\n",
    "b = 2"
   ]
  },
  {
   "cell_type": "code",
   "execution_count": 43,
   "metadata": {},
   "outputs": [],
   "source": [
    "c = 3 # exemplode comentário de linha"
   ]
  },
  {
   "cell_type": "code",
   "execution_count": 44,
   "metadata": {},
   "outputs": [],
   "source": [
    "# exemplo de comentário em várias linhas\n",
    "# exemplo de comentário em várias linhas\n",
    "# exemplo de comentário em várias linhas"
   ]
  },
  {
   "cell_type": "code",
   "execution_count": 55,
   "metadata": {},
   "outputs": [
    {
     "name": "stdout",
     "output_type": "stream",
     "text": [
      "4\n"
     ]
    },
    {
     "data": {
      "text/plain": [
       "int"
      ]
     },
     "execution_count": 55,
     "metadata": {},
     "output_type": "execute_result"
    }
   ],
   "source": [
    "'''\n",
    "Comentário Comentário Comentário \n",
    "Comentário Comentário Comentário \n",
    "Comentário Comentário Comentário\n",
    "'''\n",
    "d=4\n",
    "print(d)\n",
    "type(d)"
   ]
  },
  {
   "cell_type": "markdown",
   "metadata": {},
   "source": [
    "## Listas\n",
    "\n",
    "### Devem ser criadas entre [ ];\n",
    "### Também podem ser criadas com o comando x_1 = list(), a lista x_1 será criada, mas sem elementos;\n",
    "### Pode conter int, float, bool e str;\n",
    "### Valores str sempre entre \" \"; \n",
    "### Coleção de valores;\n",
    "### Parecido com Vetor, mas pode ser alterada;\n",
    "### A posição de cada elemento é chamada de índice;\n",
    "### Primeiro elemento armazenado no índice \"0\", o último \"n-1\";\n",
    "### \"n\" é o númeero de elementos da lista;\n",
    "### -------------------------------------------------------\n",
    "### índice           0    1    2  3   4    5     6     7\n",
    "### elementos  23  56  7  8  90  25  13  -33\n",
    "### índice          -8   -7  -6 -5 -4   -3    -2    -1\n",
    "### -------------------------------------------------------\n",
    "### Os elementos da lista podem ser acessados pelos índices \"positivos\" ou \"negativos\";"
   ]
  },
  {
   "cell_type": "code",
   "execution_count": 41,
   "metadata": {},
   "outputs": [
    {
     "name": "stdout",
     "output_type": "stream",
     "text": [
      "[1, 2, 3, 'a', 5, 6, -7, True]\n",
      "Elementos de lst_1 [1, 2, 3, 'a', 5, 6, -7, True] <class 'list'>\n"
     ]
    }
   ],
   "source": [
    "lst_1 = [1,2,3,\"a\",5,6,-7,True]\n",
    "print(lst_1)\n",
    "type(lst_1)\n",
    "print(\"Elementos de lst_1\", lst_1, type(lst_1))"
   ]
  },
  {
   "cell_type": "code",
   "execution_count": 2,
   "metadata": {},
   "outputs": [
    {
     "name": "stdout",
     "output_type": "stream",
     "text": [
      "[]\n",
      "[]\n",
      "lst_2 <class 'list'>\n",
      "lst_3 <class 'list'>\n"
     ]
    }
   ],
   "source": [
    "lst_2=[]\n",
    "lst_3=list()\n",
    "print(lst_2)\n",
    "print(lst_3)\n",
    "print(\"lst_2\", type(lst_2))\n",
    "print(\"lst_3\", type(lst_3))"
   ]
  },
  {
   "cell_type": "code",
   "execution_count": 6,
   "metadata": {},
   "outputs": [
    {
     "name": "stdout",
     "output_type": "stream",
     "text": [
      "[]\n"
     ]
    }
   ],
   "source": [
    "lst_4=list()\n",
    "print(lst_4)"
   ]
  },
  {
   "cell_type": "code",
   "execution_count": 13,
   "metadata": {},
   "outputs": [
    {
     "name": "stdout",
     "output_type": "stream",
     "text": [
      "[-7, -6, -5, -4, -3, -2, -1, 0, 1, 2, 3, 4, 5, 6, 7]\n",
      "[-7.3, -7.2, -7.1, 7.7]\n",
      "['a', 'b', 'c', 'd', 'e', 'f']\n",
      "[True, False, True, False, True]\n",
      "[-7, 7, -3.7, 3.14159, 'a', True, False]\n",
      "[[-7, -6, -5, -4], [-7.2, -7.1, 7], ['a', 'b', 'c', 'd'], [True, False, True]]\n"
     ]
    }
   ],
   "source": [
    "lst_int=[-7,-6,-5,-4,-3,-2,-1,0,1,2,3,4,5,6,7]\n",
    "lst_float=[-7.3,-7.2,-7.1,7.7]\n",
    "lst_str=[\"a\",\"b\",\"c\",\"d\",\"e\",\"f\"]\n",
    "lst_bool=[True, False, True, False, True]\n",
    "lst_mist=[-7,7,-3.7,3.14159,\"a\",True,False]\n",
    "#lst_lst é um exemplo de lista aninhada;\n",
    "lst_lst=[[-7,-6,-5,-4],[-7.2,-7.1,7],[\"a\",\"b\",\"c\",\"d\"],[True, False, True]]\n",
    "print(lst_int)\n",
    "print(lst_float)\n",
    "print(lst_str)\n",
    "print(lst_bool)\n",
    "print(lst_mist)\n",
    "print(lst_lst)\n",
    "#type(lst_mist)"
   ]
  },
  {
   "cell_type": "code",
   "execution_count": 20,
   "metadata": {},
   "outputs": [
    {
     "name": "stdout",
     "output_type": "stream",
     "text": [
      "[-7, -6, -5, -4, -3, -2, -1, 0, 1, 2, 3, 4, 5, 6, 7, True, False, True, False, True]\n"
     ]
    },
    {
     "data": {
      "text/plain": [
       "list"
      ]
     },
     "execution_count": 20,
     "metadata": {},
     "output_type": "execute_result"
    }
   ],
   "source": [
    "t1=lst_int+lst_bool\n",
    "print(t1)\n",
    "type(t1)"
   ]
  },
  {
   "cell_type": "code",
   "execution_count": null,
   "metadata": {},
   "outputs": [],
   "source": []
  }
 ],
 "metadata": {
  "kernelspec": {
   "display_name": "Python 3",
   "language": "python",
   "name": "python3"
  },
  "language_info": {
   "codemirror_mode": {
    "name": "ipython",
    "version": 3
   },
   "file_extension": ".py",
   "mimetype": "text/x-python",
   "name": "python",
   "nbconvert_exporter": "python",
   "pygments_lexer": "ipython3",
   "version": "3.8.5"
  }
 },
 "nbformat": 4,
 "nbformat_minor": 4
}
